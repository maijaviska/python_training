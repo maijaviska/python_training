{
 "cells": [
  {
   "cell_type": "markdown",
   "metadata": {},
   "source": [
    "This will be the task!\n",
    "Write a solution to create a DataFrame from a 2D list called student_data. This 2D list contains the IDs and ages of some students.\n",
    "\n",
    "The DataFrame should have two columns, student_id and age, and be in the same order as the original 2D list.\n",
    "\n",
    "The result format is in the following example."
   ]
  },
  {
   "cell_type": "code",
   "execution_count": 1,
   "metadata": {},
   "outputs": [],
   "source": [
    "import pandas as pd"
   ]
  },
  {
   "cell_type": "code",
   "execution_count": 2,
   "metadata": {},
   "outputs": [
    {
     "name": "stdout",
     "output_type": "stream",
     "text": [
      "[[1, 20], [2, 18], [3, 17], [4, 35]]\n"
     ]
    }
   ],
   "source": [
    "student_data = [[1, 20], [2, 18], [3, 17], [4, 35]]\n",
    "print(student_data)"
   ]
  },
  {
   "cell_type": "code",
   "execution_count": 3,
   "metadata": {},
   "outputs": [
    {
     "name": "stdout",
     "output_type": "stream",
     "text": [
      "   student_id  age\n",
      "0           1   20\n",
      "1           2   18\n",
      "2           3   17\n",
      "3           4   35\n"
     ]
    }
   ],
   "source": [
    "def createDataFrame(student_data: list) -> pd.DataFrame:\n",
    "    df = pd.DataFrame(student_data, columns=['student_id','age'])\n",
    "    return df\n",
    "\n",
    "df = createDataFrame(student_data)\n",
    "print(df)"
   ]
  },
  {
   "cell_type": "markdown",
   "metadata": {},
   "source": [
    "DataFrame players:\n",
    "+-------------+--------+\n",
    "| Column Name | Type   |\n",
    "+-------------+--------+\n",
    "| player_id   | int    |\n",
    "| name        | object |\n",
    "| age         | int    |\n",
    "| position    | object |\n",
    "| ...         | ...    |\n",
    "+-------------+--------+\n",
    "Write a solution to calculate and display the number of rows and columns of players.\n",
    "\n",
    "Return the result as an array:\n",
    "\n",
    "[number of rows, number of columns]\n",
    "The result format is in the following example.\n",
    "\n",
    " \n",
    "\n",
    "Example 1:\n",
    "\n",
    "Input:\n",
    "+-----------+----------+-----+-------------+--------------------+\n",
    "| player_id | name     | age | position    | team               |\n",
    "+-----------+----------+-----+-------------+--------------------+\n",
    "| 846       | Mason    | 21  | Forward     | RealMadrid         |\n",
    "| 749       | Riley    | 30  | Winger      | Barcelona          |\n",
    "| 155       | Bob      | 28  | Striker     | ManchesterUnited   |\n",
    "| 583       | Isabella | 32  | Goalkeeper  | Liverpool          |\n",
    "| 388       | Zachary  | 24  | Midfielder  | BayernMunich       |\n",
    "| 883       | Ava      | 23  | Defender    | Chelsea            |\n",
    "| 355       | Violet   | 18  | Striker     | Juventus           |\n",
    "| 247       | Thomas   | 27  | Striker     | ParisSaint-Germain |\n",
    "| 761       | Jack     | 33  | Midfielder  | ManchesterCity     |\n",
    "| 642       | Charlie  | 36  | Center-back | Arsenal            |\n",
    "+-----------+----------+-----+-------------+--------------------+\n",
    "Output:\n",
    "[10, 5]\n",
    "Explanation:\n",
    "This DataFrame contains 10 rows and 5 columns."
   ]
  },
  {
   "cell_type": "code",
   "execution_count": 4,
   "metadata": {},
   "outputs": [],
   "source": [
    "player_data = [\n",
    "    [846, \"Mason\", 21, \"Forward\", \"RealMadrid\"],\n",
    "    [749, \"Riley\", 30, \"Winger\", \"Barcelona\"],\n",
    "    [155, \"Bob\", 28, \"Striker\", \"ManchesterUnited\"],\n",
    "    [583, \"Isabella\", 32, \"Goalkeeper\", \"Liverpool\"],\n",
    "    [388, \"Zachary\", 24, \"Midfielder\", \"BayernMunich\"],\n",
    "    [883, \"Ava\", 23, \"Defender\", \"Chelsea\"],\n",
    "    [355, \"Violet\", 18, \"Striker\", \"Juventus\"],\n",
    "    [247, \"Thomas\", 27, \"Striker\", \"ParisSaint-Germain\"],\n",
    "    [761, \"Jack\", 33, \"Midfielder\", \"ManchesterCity\"],\n",
    "    [642, \"Charlie\", 36, \"Center-back\", \"Arsenal\"]\n",
    "]"
   ]
  },
  {
   "cell_type": "code",
   "execution_count": 5,
   "metadata": {},
   "outputs": [
    {
     "name": "stdout",
     "output_type": "stream",
     "text": [
      "   player_id      name  age     position                team\n",
      "0        846     Mason   21      Forward          RealMadrid\n",
      "1        749     Riley   30       Winger           Barcelona\n",
      "2        155       Bob   28      Striker    ManchesterUnited\n",
      "3        583  Isabella   32   Goalkeeper           Liverpool\n",
      "4        388   Zachary   24   Midfielder        BayernMunich\n",
      "5        883       Ava   23     Defender             Chelsea\n",
      "6        355    Violet   18      Striker            Juventus\n",
      "7        247    Thomas   27      Striker  ParisSaint-Germain\n",
      "8        761      Jack   33   Midfielder      ManchesterCity\n",
      "9        642   Charlie   36  Center-back             Arsenal\n"
     ]
    }
   ],
   "source": [
    "df_player_data = pd.DataFrame(player_data, columns=['player_id', 'name', 'age', 'position', 'team'], index=None)\n",
    "print(df_player_data)"
   ]
  },
  {
   "cell_type": "code",
   "execution_count": 6,
   "metadata": {},
   "outputs": [
    {
     "data": {
      "text/plain": [
       "[10, 5]"
      ]
     },
     "execution_count": 6,
     "metadata": {},
     "output_type": "execute_result"
    }
   ],
   "source": [
    "list(df_player_data.shape)"
   ]
  },
  {
   "cell_type": "code",
   "execution_count": 7,
   "metadata": {},
   "outputs": [
    {
     "name": "stdout",
     "output_type": "stream",
     "text": [
      "[10, 5]\n"
     ]
    }
   ],
   "source": [
    "from typing import List\n",
    "import pandas as pd\n",
    "\n",
    "# Define the function\n",
    "def getDataframeSize(players: pd.DataFrame) -> List[int]:\n",
    "    # Get the shape of the DataFrame and convert it to a list\n",
    "    return list(players.shape)\n",
    "\n",
    "# Example usage:\n",
    "\n",
    "# Create example DataFrame\n",
    "data = {\n",
    "    'player_id': [846, 749, 155, 583, 388, 883, 355, 247, 761, 642],\n",
    "    'name': [\"Mason\", \"Riley\", \"Bob\", \"Isabella\", \"Zachary\", \"Ava\", \"Violet\", \"Thomas\", \"Jack\", \"Charlie\"],\n",
    "    'age': [21, 30, 28, 32, 24, 23, 18, 27, 33, 36],\n",
    "    'position': [\"Forward\", \"Winger\", \"Striker\", \"Goalkeeper\", \"Midfielder\", \"Defender\", \"Striker\", \"Striker\", \"Midfielder\", \"Center-back\"],\n",
    "    'team': [\"RealMadrid\", \"Barcelona\", \"ManchesterUnited\", \"Liverpool\", \"BayernMunich\", \"Chelsea\", \"Juventus\", \"ParisSaint-Germain\", \"ManchesterCity\", \"Arsenal\"]\n",
    "}\n",
    "\n",
    "# Create the DataFrame\n",
    "df = pd.DataFrame(data)\n",
    "\n",
    "# Call the function with the DataFrame and print the result\n",
    "print(getDataframeSize(df))\n"
   ]
  },
  {
   "cell_type": "code",
   "execution_count": 8,
   "metadata": {},
   "outputs": [
    {
     "name": "stdout",
     "output_type": "stream",
     "text": [
      "[10, 5]\n"
     ]
    }
   ],
   "source": [
    "print(getDataframeSize(df_player_data))"
   ]
  },
  {
   "cell_type": "code",
   "execution_count": 9,
   "metadata": {},
   "outputs": [
    {
     "name": "stdout",
     "output_type": "stream",
     "text": [
      "   player_id   name  age position              team\n",
      "0        846  Mason   21  Forward        RealMadrid\n",
      "1        749  Riley   30   Winger         Barcelona\n",
      "2        155    Bob   28  Striker  ManchesterUnited\n"
     ]
    }
   ],
   "source": [
    "\n",
    "def selectFirstRows(players: pd.DataFrame) -> pd.DataFrame:\n",
    "    return players.head(3)\n",
    "\n",
    "print(selectFirstRows(df_player_data))"
   ]
  }
 ],
 "metadata": {
  "kernelspec": {
   "display_name": "Python 3",
   "language": "python",
   "name": "python3"
  },
  "language_info": {
   "codemirror_mode": {
    "name": "ipython",
    "version": 3
   },
   "file_extension": ".py",
   "mimetype": "text/x-python",
   "name": "python",
   "nbconvert_exporter": "python",
   "pygments_lexer": "ipython3",
   "version": "3.9.5"
  }
 },
 "nbformat": 4,
 "nbformat_minor": 2
}
