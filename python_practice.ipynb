{
 "cells": [
  {
   "cell_type": "markdown",
   "metadata": {},
   "source": [
    "Temperature Converter\n",
    "Concepts: Variables, user input, conditionals, functions.\n",
    "Description: Write a program that converts temperatures between Celsius, Fahrenheit, and Kelvin. You can ask the user to input a temperature value and the current unit, then convert it to the other two units using functions.\n",
    "Extensions: Add error handling to check if the input is a valid number."
   ]
  },
  {
   "cell_type": "code",
   "execution_count": 1,
   "metadata": {},
   "outputs": [
    {
     "name": "stdout",
     "output_type": "stream",
     "text": [
      "Temperature types Fahrenheit (F), Celsius (C), Kelvin (K)\n",
      "Input temperature is : 7.0°K\n",
      "Temperature in Kelvin is 7.00°K\n",
      "Temperature in Fahrenheit is -447.07°F\n",
      "Temperature in Celsius is -266.15°C\n"
     ]
    }
   ],
   "source": [
    "def fahrenheit_to_celsius(f):\n",
    "    return((f - 32) * 5/9)\n",
    "\n",
    "def fahrenheit_to_kelvin(f):\n",
    "    return((f - 32)* 5/9 + 273.15)\n",
    "\n",
    "def celsius_to_fahrenheit(c):\n",
    "    return((c * 9/5) + 32)\n",
    "\n",
    "def celsius_to_kelvin(c):\n",
    "    return(c + 273.15)\n",
    "\n",
    "def kelvin_to_fahrenheit(k):\n",
    "    return((k - 273.15)* 9/5 + 32)\n",
    "\n",
    "def kelvin_to_celsius(k):\n",
    "    return(k - 273.15)\n",
    "\n",
    "\n",
    "try:\n",
    "    temperature = float(input('Enter temperature degrees'))\n",
    "    temperature_type = input('Enter temperature type (F, C, K)').strip().upper()\n",
    "    print('Temperature types Fahrenheit (F), Celsius (C), Kelvin (K)')\n",
    "    print(f\"Input temperature is : {temperature}°{temperature_type}\")\n",
    "except ValueError:\n",
    "    print('Please enter a valid number!')\n",
    "\n",
    "if temperature_type == 'F':\n",
    "    print(f'Temperature in Fahrenheit is {temperature:.2f}°F')\n",
    "    print(f'Temperature in Celsius is {fahrenheit_to_celsius(temperature):.2f}°C')\n",
    "    print(f'Temperature in Kelvin is {fahrenheit_to_kelvin(temperature):.2f}°K')\n",
    "elif temperature_type == 'C':\n",
    "    print(f'Temperature in Celsius is {temperature:.2f}°C')\n",
    "    print(f'Temperature in Fahrenheit is {celsius_to_fahrenheit(temperature):.2f}°F')\n",
    "    print(f'Temperature in Kelvin is {celsius_to_kelvin(temperature):.2f}°K')\n",
    "elif temperature_type == 'K':\n",
    "    print(f'Temperature in Kelvin is {temperature:.2f}°K')\n",
    "    print(f'Temperature in Fahrenheit is {kelvin_to_fahrenheit(temperature):.2f}°F')\n",
    "    print(f'Temperature in Celsius is {kelvin_to_celsius(temperature):.2f}°C')\n",
    "else:\n",
    "    print('Enter temperature type C, F or K')"
   ]
  }
 ],
 "metadata": {
  "kernelspec": {
   "display_name": "Python 3",
   "language": "python",
   "name": "python3"
  },
  "language_info": {
   "codemirror_mode": {
    "name": "ipython",
    "version": 3
   },
   "file_extension": ".py",
   "mimetype": "text/x-python",
   "name": "python",
   "nbconvert_exporter": "python",
   "pygments_lexer": "ipython3",
   "version": "3.9.5"
  }
 },
 "nbformat": 4,
 "nbformat_minor": 2
}
